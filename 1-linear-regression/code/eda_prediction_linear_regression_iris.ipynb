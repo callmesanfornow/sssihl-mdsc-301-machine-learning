{
  "cells": [
    {
      "cell_type": "markdown",
      "metadata": {
        "id": "CL5kDUuK2_eL"
      },
      "source": [
        "# Lab Assignment -1\n",
        "For the iris dataset with petal length(X: Predictor) and petal width (Y: the response variable), perform EDA and predictive analysis.\n"
      ]
    },
    {
      "cell_type": "markdown",
      "metadata": {
        "id": "LBywjJwY3EAq"
      },
      "source": [
        "## Importing Libraries and downloading iris dataset from this [link](https://archive.ics.uci.edu/ml/machine-learning-databases/iris/iris.data)."
      ]
    },
    {
      "cell_type": "code",
      "execution_count": 1,
      "metadata": {
        "id": "6Ios3Bdvg2Y0"
      },
      "outputs": [],
      "source": [
        "import pandas as pd\n",
        "import matplotlib.pyplot as plt\n",
        "from sklearn.linear_model import LinearRegression\n",
        "from sklearn.model_selection import train_test_split\n",
        "from sklearn.metrics import mean_squared_error, r2_score"
      ]
    },
    {
      "cell_type": "code",
      "execution_count": 2,
      "metadata": {
        "id": "ctjBanNng82T"
      },
      "outputs": [],
      "source": [
        "# Load the iris dataset\n",
        "url = \"https://archive.ics.uci.edu/ml/machine-learning-databases/iris/iris.data\"\n",
        "col_names = ['sepal_length', 'sepal_width', 'petal_length', 'petal_width', 'class']\n",
        "iris_df = pd.read_csv(url, header=None, names=col_names)"
      ]
    },
    {
      "cell_type": "markdown",
      "metadata": {
        "id": "dT7k-eTs3Pe6"
      },
      "source": [
        "## Dropping Columns\n",
        "Since there is no need for sepal related columns and the class, we drop them.\n",
        "\n",
        "After dropping, there is some explanation given below using the `iris_df.describe function`"
      ]
    },
    {
      "cell_type": "code",
      "execution_count": 5,
      "metadata": {
        "colab": {
          "base_uri": "https://localhost:8080/",
          "height": 0
        },
        "id": "I61690f4g-Ib",
        "outputId": "17ff2164-fd04-4265-f547-305bd20ca2bf"
      },
      "outputs": [],
      "source": [
        "# Drop irrelevant columns and keep only petal length and petal width\n",
        "iris_df = iris_df[['petal_length', 'petal_width']]"
      ]
    },
    {
      "cell_type": "markdown",
      "metadata": {},
      "source": [
        "## EDA"
      ]
    },
    {
      "cell_type": "markdown",
      "metadata": {},
      "source": [
        "### Dataset Description"
      ]
    },
    {
      "cell_type": "code",
      "execution_count": 6,
      "metadata": {},
      "outputs": [
        {
          "name": "stdout",
          "output_type": "stream",
          "text": [
            "       petal_length  petal_width\n",
            "count    150.000000   150.000000\n",
            "mean       3.758667     1.198667\n",
            "std        1.764420     0.763161\n",
            "min        1.000000     0.100000\n",
            "25%        1.600000     0.300000\n",
            "50%        4.350000     1.300000\n",
            "75%        5.100000     1.800000\n",
            "max        6.900000     2.500000\n"
          ]
        }
      ],
      "source": [
        "print(iris_df.describe())"
      ]
    },
    {
      "cell_type": "markdown",
      "metadata": {
        "id": "WL5_fbKR3qHL"
      },
      "source": [
        "### Scatterplot\n",
        "\n",
        "A scatter plot of petal length vs width is plotted."
      ]
    },
    {
      "cell_type": "code",
      "execution_count": 4,
      "metadata": {
        "colab": {
          "base_uri": "https://localhost:8080/",
          "height": 472
        },
        "id": "X3cpzObJhADq",
        "outputId": "47c6ebcb-a18e-4fa8-b849-5644d7324201"
      },
      "outputs": [
        {
          "data": {
            "image/png": "[encoded data removed]",
            "text/plain": [
              "<Figure size 640x480 with 1 Axes>"
            ]
          },
          "metadata": {},
          "output_type": "display_data"
        }
      ],
      "source": [
        "# Scatter plot of petal length vs. petal width\n",
        "plt.scatter(iris_df['petal_length'], iris_df['petal_width'])\n",
        "plt.xlabel('Petal Length')\n",
        "plt.ylabel('Petal Width')\n",
        "plt.title('Scatter plot of Petal Length vs. Petal Width')\n",
        "plt.show()"
      ]
    },
    {
      "cell_type": "markdown",
      "metadata": {
        "id": "Mplr6p5V3xpU"
      },
      "source": [
        "## Test Train Split\n",
        "\n",
        "Training and test split is donw with a ratio of 80:20(train, test)."
      ]
    },
    {
      "cell_type": "code",
      "execution_count": 7,
      "metadata": {
        "id": "svQJ_PoqhBaq"
      },
      "outputs": [],
      "source": [
        "# Split the data into train and test sets\n",
        "X = iris_df[['petal_length']]\n",
        "y = iris_df['petal_width']\n",
        "X_train, X_test, y_train, y_test = train_test_split(X, y, test_size=0.2, random_state=42)"
      ]
    },
    {
      "cell_type": "markdown",
      "metadata": {
        "id": "kfurYge038KS"
      },
      "source": [
        "## Modelling\n",
        "\n",
        "Using the `LinearRegression()` from `sklearn.linear_model`, we perform modelling."
      ]
    },
    {
      "cell_type": "code",
      "execution_count": 8,
      "metadata": {
        "id": "IyqBxRJVhC-t"
      },
      "outputs": [],
      "source": [
        "# Create a linear regression model\n",
        "model = LinearRegression()\n",
        "\n",
        "# Fit the model on the training data\n",
        "model.fit(X_train, y_train)\n",
        "\n",
        "# Predict on the test data\n",
        "y_pred = model.predict(X_test)"
      ]
    },
    {
      "cell_type": "markdown",
      "metadata": {
        "id": "3P80_R_p4JX6"
      },
      "source": [
        "## Metric Evaluation for regression problems."
      ]
    },
    {
      "cell_type": "code",
      "execution_count": 9,
      "metadata": {
        "colab": {
          "base_uri": "https://localhost:8080/",
          "height": 0
        },
        "id": "aFNbG7bEhFLq",
        "outputId": "8d686e08-226f-4151-ee11-57a196043a2e"
      },
      "outputs": [
        {
          "name": "stdout",
          "output_type": "stream",
          "text": [
            "Mean Squared Error: 0.04557819994873106\n",
            "R-squared: 0.9282973309202085\n"
          ]
        }
      ],
      "source": [
        "# Calculate metrics\n",
        "mse = mean_squared_error(y_test, y_pred)\n",
        "r2 = r2_score(y_test, y_pred)\n",
        "\n",
        "print(\"Mean Squared Error:\", mse)\n",
        "print(\"R-squared:\", r2)"
      ]
    }
  ],
  "metadata": {
    "colab": {
      "provenance": []
    },
    "kernelspec": {
      "display_name": "Python 3",
      "name": "python3"
    },
    "language_info": {
      "codemirror_mode": {
        "name": "ipython",
        "version": 3
      },
      "file_extension": ".py",
      "mimetype": "text/x-python",
      "name": "python",
      "nbconvert_exporter": "python",
      "pygments_lexer": "ipython3",
      "version": "3.10.12"
    }
  },
  "nbformat": 4,
  "nbformat_minor": 0
}
